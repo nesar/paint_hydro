{
 "cells": [
  {
   "cell_type": "markdown",
   "id": "69ae691e-524d-4c52-a5ac-55682a5c5a15",
   "metadata": {},
   "source": [
    "# Metallicity\n",
    "> Compute metallicity from observational fitting"
   ]
  },
  {
   "cell_type": "code",
   "execution_count": null,
   "id": "7689decb-a1b3-4e60-a13c-13e829ae58ca",
   "metadata": {},
   "outputs": [],
   "source": [
    "#| default_exp metal"
   ]
  },
  {
   "cell_type": "code",
   "execution_count": null,
   "id": "f57e088b-946c-4f78-85a8-677b27c58e24",
   "metadata": {},
   "outputs": [],
   "source": [
    "%load_ext autoreload\n",
    "%autoreload 2"
   ]
  },
  {
   "cell_type": "code",
   "execution_count": null,
   "id": "bb27beb6-584b-48bb-b6e1-ce1e18119b15",
   "metadata": {},
   "outputs": [
    {
     "name": "stderr",
     "output_type": "stream",
     "text": [
      "/home/nramachandra/anaconda3/envs/env_jax/lib/python3.9/site-packages/nbdev/export.py:54: UserWarning: Notebook '/lcrc/project/cosmo_ai/nramachandra/Projects/Hydro_paint/paint_hydro/nbs/index.ipynb' uses `#|export` without `#|default_exp` cell.\n",
      "Note nbdev2 no longer supports nbdev1 syntax. Run `nbdev_migrate` to upgrade.\n",
      "See https://nbdev.fast.ai/getting_started.html for more information.\n",
      "  warn(f\"Notebook '{nbname}' uses `#|export` without `#|default_exp` cell.\\n\"\n"
     ]
    }
   ],
   "source": [
    "#| hide\n",
    "import nbdev; nbdev.nbdev_export()\n",
    "from fastcore.test import *\n",
    "from nbdev.showdoc import show_doc"
   ]
  },
  {
   "cell_type": "code",
   "execution_count": null,
   "id": "092c313d-2494-40f9-a477-1ddff97ae7b3",
   "metadata": {},
   "outputs": [],
   "source": [
    "#| export \n",
    "import matplotlib.pylab as plt\n",
    "import numpy as np"
   ]
  },
  {
   "cell_type": "code",
   "execution_count": null,
   "id": "383d33ed-4c6a-44e6-9252-7a5893ff36c3",
   "metadata": {},
   "outputs": [],
   "source": [
    "#| export\n",
    "def logZfit(logM, # log stellar mass\n",
    "            redshift): # redshift\n",
    "    '''\n",
    "    returns log(Metallicity)\n",
    "    \n",
    "    Fitting done in Projects/SPHEREx/MAH/stellar_metal_obs.py\n",
    "\n",
    "    '''\n",
    "    a, b, c = 0.3265417, -0.07960499, -3.37447516\n",
    "\n",
    "    logZ = a*logM + b*(redshift) + c\n",
    "    return logZ"
   ]
  },
  {
   "cell_type": "code",
   "execution_count": null,
   "id": "5b4d1fa4-8c62-4dac-94f1-3e53304ff012",
   "metadata": {},
   "outputs": [],
   "source": [
    "# #| hide\n",
    "# show_doc(logZfit)"
   ]
  },
  {
   "cell_type": "code",
   "execution_count": null,
   "id": "4e28a827-5059-44a4-b071-63660777395c",
   "metadata": {},
   "outputs": [],
   "source": []
  }
 ],
 "metadata": {
  "kernelspec": {
   "display_name": "python3",
   "language": "python",
   "name": "python3"
  }
 },
 "nbformat": 4,
 "nbformat_minor": 5
}
