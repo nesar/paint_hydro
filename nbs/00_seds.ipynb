{
 "cells": [
  {
   "cell_type": "markdown",
   "metadata": {},
   "source": [
    "# seds\n",
    "\n",
    "> Using HACC-hydro star formation history and metallicity information to generate SEDs"
   ]
  },
  {
   "cell_type": "code",
   "execution_count": null,
   "metadata": {},
   "outputs": [],
   "source": [
    "%load_ext autoreload\n",
    "%autoreload 2"
   ]
  },
  {
   "cell_type": "code",
   "execution_count": null,
   "metadata": {},
   "outputs": [],
   "source": [
    "#| default_exp seds"
   ]
  },
  {
   "cell_type": "code",
   "execution_count": null,
   "metadata": {},
   "outputs": [],
   "source": [
    "#| hide\n",
    "from nbdev.showdoc import *"
   ]
  },
  {
   "cell_type": "code",
   "execution_count": null,
   "metadata": {},
   "outputs": [],
   "source": [
    "#| export\n",
    "def adding(a, # first variable\n",
    "          b,  #second variable\n",
    "          c): #third variable\n",
    "    '''\n",
    "    Adding 3 numbers \n",
    "    '''\n",
    "    d = a + b+ c\n",
    "    return d\n",
    "    "
   ]
  },
  {
   "cell_type": "markdown",
   "metadata": {},
   "source": [
    "$$\\sum_{i=1}^{k+1}i$$"
   ]
  },
  {
   "cell_type": "code",
   "execution_count": null,
   "metadata": {},
   "outputs": [
    {
     "ename": "SyntaxError",
     "evalue": "EOL while scanning string literal (<unknown>, line 4)",
     "output_type": "error",
     "traceback": [
      "Traceback \u001b[0;36m(most recent call last)\u001b[0m:\n",
      "  File \u001b[1;32m~/.local/lib/python3.9/site-packages/IPython/core/interactiveshell.py:3398\u001b[0m in \u001b[1;35mrun_code\u001b[0m\n    exec(code_obj, self.user_global_ns, self.user_ns)\n",
      "  Input \u001b[1;32mIn [5]\u001b[0m in \u001b[1;35m<cell line: 2>\u001b[0m\n    import nbdev; nbdev.nbdev_export()\n",
      "  File \u001b[1;32m~/anaconda3/envs/env_jax/lib/python3.9/site-packages/fastcore/script.py:110\u001b[0m in \u001b[1;35m_f\u001b[0m\n    if not mod: return func(*args, **kwargs)\n",
      "  File \u001b[1;32m~/anaconda3/envs/env_jax/lib/python3.9/site-packages/nbdev/doclinks.py:140\u001b[0m in \u001b[1;35mnbdev_export\u001b[0m\n    _build_modidx()\n",
      "  File \u001b[1;32m~/anaconda3/envs/env_jax/lib/python3.9/site-packages/nbdev/doclinks.py:102\u001b[0m in \u001b[1;35m_build_modidx\u001b[0m\n    res['syms'].update(_get_modidx((dest.parent/file).resolve(), code_root, nbs_path=nbs_path))\n",
      "  File \u001b[1;32m~/anaconda3/envs/env_jax/lib/python3.9/site-packages/nbdev/doclinks.py:79\u001b[0m in \u001b[1;35m_get_modidx\u001b[0m\n    for tree in ast.parse(cell.code).body:\n",
      "\u001b[0;36m  File \u001b[0;32m~/anaconda3/envs/env_jax/lib/python3.9/ast.py:50\u001b[0;36m in \u001b[0;35mparse\u001b[0;36m\u001b[0m\n\u001b[0;31m    return compile(source, filename, mode, flags,\u001b[0m\n",
      "\u001b[0;36m  File \u001b[0;32m<unknown>:4\u001b[0;36m\u001b[0m\n\u001b[0;31m    \"\u001b[0m\n\u001b[0m     ^\u001b[0m\n\u001b[0;31mSyntaxError\u001b[0m\u001b[0;31m:\u001b[0m EOL while scanning string literal\n"
     ]
    }
   ],
   "source": [
    "#| hide\n",
    "import nbdev; nbdev.nbdev_export()"
   ]
  },
  {
   "cell_type": "code",
   "execution_count": null,
   "metadata": {},
   "outputs": [],
   "source": [
    "assert adding(3, 4, 5)==12"
   ]
  },
  {
   "cell_type": "code",
   "execution_count": null,
   "metadata": {},
   "outputs": [],
   "source": [
    "show_doc(adding)"
   ]
  },
  {
   "cell_type": "code",
   "execution_count": null,
   "metadata": {},
   "outputs": [],
   "source": []
  }
 ],
 "metadata": {
  "kernelspec": {
   "display_name": "python3",
   "language": "python",
   "name": "python3"
  }
 },
 "nbformat": 4,
 "nbformat_minor": 4
}
