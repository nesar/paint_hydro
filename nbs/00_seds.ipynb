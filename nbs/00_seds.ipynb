{
 "cells": [
  {
   "cell_type": "code",
   "execution_count": null,
   "metadata": {},
   "outputs": [],
   "source": [
    "%load_ext autoreload\n",
    "%autoreload 2"
   ]
  },
  {
   "cell_type": "markdown",
   "metadata": {},
   "source": [
    "# seds\n",
    "\n",
    "> Using HACC-hydro star formation history and metallicity information to generate SEDs"
   ]
  },
  {
   "cell_type": "code",
   "execution_count": null,
   "metadata": {},
   "outputs": [],
   "source": [
    "#| default_exp seds"
   ]
  },
  {
   "cell_type": "code",
   "execution_count": null,
   "metadata": {},
   "outputs": [],
   "source": [
    "#| hide\n",
    "from nbdev.showdoc import *"
   ]
  },
  {
   "cell_type": "code",
   "execution_count": null,
   "metadata": {},
   "outputs": [],
   "source": [
    "#| hide\n",
    "import nbdev; nbdev.nbdev_export()"
   ]
  },
  {
   "cell_type": "code",
   "execution_count": null,
   "metadata": {},
   "outputs": [],
   "source": [
    "#| export\n",
    "import numpy as np\n",
    "import math\n",
    "import sys, os\n",
    "import fsps\n",
    "from astropy.cosmology import *\n",
    "import matplotlib.pylab as plt\n",
    "from colossus.cosmology import cosmology\n",
    "import haccytrees.mergertrees"
   ]
  },
  {
   "cell_type": "code",
   "execution_count": null,
   "metadata": {},
   "outputs": [],
   "source": [
    "#| export\n",
    "def adding(a, # first variable\n",
    "          b,  #second variable\n",
    "          c): #third variable\n",
    "    '''\n",
    "    Adding 3 numbers \n",
    "    '''\n",
    "    d = a + b+ c\n",
    "    return d"
   ]
  },
  {
   "cell_type": "code",
   "execution_count": null,
   "metadata": {},
   "outputs": [],
   "source": []
  },
  {
   "cell_type": "markdown",
   "metadata": {},
   "source": [
    "Using $$\\sum_{i=1}^{k+1}i$$"
   ]
  },
  {
   "cell_type": "code",
   "execution_count": null,
   "metadata": {},
   "outputs": [],
   "source": [
    "#| export\n",
    "def autoscale_y(ax,margin=0.1):\n",
    "    \"\"\"This function rescales the y-axis based on the data that is visible given the current xlim of the axis.\n",
    "    ax -- a matplotlib axes object\n",
    "    margin -- the fraction of the total height of the y-data to pad the upper and lower ylims\"\"\"\n",
    "\n",
    "\n",
    "    def get_bottom_top(line):\n",
    "        xd = line.get_xdata()\n",
    "        yd = line.get_ydata()\n",
    "        lo,hi = ax.get_xlim()\n",
    "        y_displayed = yd[((xd>lo) & (xd<hi))]\n",
    "        h = np.max(y_displayed) - np.min(y_displayed)\n",
    "        bot = np.min(y_displayed)-margin*h\n",
    "        top = np.max(y_displayed)+margin*h\n",
    "        return bot,top\n",
    "\n",
    "    lines = ax.get_lines()\n",
    "    bot,top = np.inf, -np.inf\n",
    "\n",
    "    for line in lines:\n",
    "        new_bot, new_top = get_bottom_top(line)\n",
    "        if new_bot < bot: bot = new_bot\n",
    "        if new_top > top: top = new_top\n",
    "\n",
    "    ax.set_ylim(bot,top)"
   ]
  },
  {
   "cell_type": "code",
   "execution_count": null,
   "metadata": {},
   "outputs": [],
   "source": [
    "#| export\n",
    "def cosmo_redshifting(DL_Gpc=0.0, # Luminosity distance (LD) in unit of Gpc. If this parameter is not zero, the LD will not be calculated using the Astropy Cosmology package. \n",
    "                      cosmo='flat_LCDM', # Choices for the cosmological parameters. The choices are: ['flat_LCDM', 'WMAP5',  'WMAP7', 'WMAP9', 'Planck13', 'Planck15'], similar to the choices available in the  Astropy Cosmology package: https://docs.astropy.org/en/stable/cosmology/#built-in-cosmologies. If 'flat_LCDM' is chosen, the input H0 and Om0 should be provided.\n",
    "                      H0=70.0, # Hubble constant at z=0.\n",
    "                      Om0=0.3, # Omega matter at z=0.\n",
    "                      z=0.01, # Redshift.\n",
    "                      wave=[], # Wavelength grids of the input spectrum.\n",
    "                      spec=[]): # Fluxes of the input spectrum.  \n",
    "    \"\"\"\n",
    "    returns redsh_wave: Wavelength grids of the redshifted spectrum\n",
    "    returns redsh_spec: Fluxes of redshifted spectrum. \n",
    "    \"\"\"\n",
    "\n",
    "    if DL_Gpc > 0.0:\n",
    "        DL = DL_Gpc\n",
    "        DL = DL*3.08568e+27\n",
    "    else:\n",
    "        if cosmo=='flat_LCDM' or cosmo==0:\n",
    "            cosmo1 = FlatLambdaCDM(H0=H0, Om0=Om0)\n",
    "            DL = cosmo1.luminosity_distance(z)      # in unit of Mpc\n",
    "        elif cosmo=='WMAP5' or cosmo==1:\n",
    "            DL = WMAP5.luminosity_distance(z)\n",
    "        elif cosmo=='WMAP7' or cosmo==2:\n",
    "            DL = WMAP7.luminosity_distance(z)\n",
    "        elif cosmo=='WMAP9' or cosmo==3:\n",
    "            DL = WMAP9.luminosity_distance(z)\n",
    "        elif cosmo=='Planck13' or cosmo==4:\n",
    "            DL = Planck13.luminosity_distance(z)\n",
    "        elif cosmo=='Planck15' or cosmo==5:\n",
    "            DL = Planck15.luminosity_distance(z)\n",
    "        #elif cosmo=='Planck18' or cosmo==6:\n",
    "        #    DL = Planck18.luminosity_distance(z)\n",
    "        \n",
    "        DL = DL.value/1.0e+3\n",
    "        DL = DL*3.08568e+27\n",
    "\n",
    "    redsh_wave = (1.0+z)*np.asarray(wave)\n",
    "    cor = 1.0/12.56637061/DL/DL/(1.0+z)           # flux in L_solar cm^-2 A^-1\n",
    "    cor = cor*3.826e+33                           # flux in erg s^-1 cm^-2 A^-1\n",
    "    redsh_spec = cor*np.asarray(spec)\n",
    "\n",
    "    return redsh_wave, redsh_spec"
   ]
  },
  {
   "cell_type": "code",
   "execution_count": null,
   "metadata": {},
   "outputs": [],
   "source": [
    "#| export\n",
    "def convert_unit_spec_from_ergscm2A(wave, # wavelength\n",
    "                                    spec, # SEDs\n",
    "                                    funit='Jy'): #Units\n",
    "    \"\"\"\n",
    "    A function to convert unit of flux from 'erg/s/cm2/A' --> 'erg/s/cm2' or 'Jy'\n",
    "    \"\"\"\n",
    "    if funit=='erg/s/cm2/A' or funit==0:\n",
    "        spec_new = spec\n",
    "    elif funit=='erg/s/cm2' or funit==1:\n",
    "        spec_new = np.asarray(spec)*np.asarray(wave)\n",
    "    elif funit=='Jy' or funit==2:\n",
    "        spec_new = np.asarray(spec)*np.asarray(wave)*np.asarray(wave)/1.0e-23/2.998e+18\n",
    "    else:\n",
    "        print (\"The input funit is not recognized!\")\n",
    "        sys.exit()\n",
    "\n",
    "    return spec_new"
   ]
  },
  {
   "cell_type": "code",
   "execution_count": null,
   "metadata": {},
   "outputs": [],
   "source": [
    "#| export\n",
    "def cosmology_model(sim_name):\n",
    "    # Cosmic Age of all snapshots\n",
    "    sim = haccytrees.Simulation.simulations[sim_name]\n",
    "\n",
    "    cosmo = cosmology.setCosmology(sim_name, dict(\n",
    "        flat=True,\n",
    "        H0=sim.cosmo.h*100,\n",
    "        Om0=sim.cosmo.Omega_m,\n",
    "        Ob0=sim.cosmo.Omega_b,\n",
    "        sigma8=sim.cosmo.s8,\n",
    "        ns=sim.cosmo.ns\n",
    "    ))\n",
    "    return cosmo"
   ]
  },
  {
   "cell_type": "code",
   "execution_count": null,
   "metadata": {},
   "outputs": [],
   "source": [
    "#| export\n",
    "def load(hacc_sfh_file):\n",
    "    cosmo = cosmology_model(\"AlphaQ\")\n",
    "    hacc_hydro_sm = np.loadtxt(hacc_sfh_file)\n",
    "    hydro_sm = hacc_hydro_sm[:, 0]\n",
    "    hydro_tt = cosmo.age(hacc_hydro_sm[:, 1])\n",
    "    return hydro_sm, hydro_tt"
   ]
  },
  {
   "cell_type": "code",
   "execution_count": null,
   "metadata": {},
   "outputs": [
    {
     "data": {
      "image/png": "[encoded data removed]",
      "text/plain": [
       "<Figure size 432x288 with 1 Axes>"
      ]
     },
     "metadata": {
      "needs_background": "light"
     },
     "output_type": "display_data"
    }
   ],
   "source": [
    "dirIn = '/lcrc/project/cosmo_ai/nramachandra/Projects/Hydro_paint/Data/SFHs/'\n",
    "\n",
    "plt.figure(32)\n",
    "\n",
    "for galID in range(9, 14):\n",
    "    fileIn = dirIn + 'gal' + str(galID) +'.txt'\n",
    "    hydro_sm, hydro_tt = load(fileIn)\n",
    "    plt.plot(hydro_tt, np.gradient(hydro_sm, hydro_tt))\n",
    "    \n",
    "# plt.yscale('log')"
   ]
  },
  {
   "cell_type": "code",
   "execution_count": null,
   "metadata": {},
   "outputs": [],
   "source": []
  },
  {
   "cell_type": "code",
   "execution_count": null,
   "metadata": {},
   "outputs": [],
   "source": [
    "assert adding(3, 4, 5)==12"
   ]
  },
  {
   "cell_type": "code",
   "execution_count": null,
   "metadata": {},
   "outputs": [
    {
     "data": {
      "text/markdown": [
       "---\n",
       "\n",
       "[source](https://github.com/nesar/paint_hydro/blob/main/paint_hydro/seds.py#L17){target=\"_blank\" style=\"float:right; font-size:smaller\"}\n",
       "\n",
       "### adding\n",
       "\n",
       ">      adding (a, b, c)\n",
       "\n",
       "Adding 3 numbers\n",
       "\n",
       "|    | **Details** |\n",
       "| -- | ----------- |\n",
       "| a | first variable |\n",
       "| b | second variable |\n",
       "| c | third variable |"
      ],
      "text/plain": [
       "---\n",
       "\n",
       "[source](https://github.com/nesar/paint_hydro/blob/main/paint_hydro/seds.py#L17){target=\"_blank\" style=\"float:right; font-size:smaller\"}\n",
       "\n",
       "### adding\n",
       "\n",
       ">      adding (a, b, c)\n",
       "\n",
       "Adding 3 numbers\n",
       "\n",
       "|    | **Details** |\n",
       "| -- | ----------- |\n",
       "| a | first variable |\n",
       "| b | second variable |\n",
       "| c | third variable |"
      ]
     },
     "execution_count": null,
     "metadata": {},
     "output_type": "execute_result"
    }
   ],
   "source": [
    "show_doc(adding)"
   ]
  },
  {
   "cell_type": "code",
   "execution_count": null,
   "metadata": {},
   "outputs": [],
   "source": []
  }
 ],
 "metadata": {
  "kernelspec": {
   "display_name": "python3",
   "language": "python",
   "name": "python3"
  }
 },
 "nbformat": 4,
 "nbformat_minor": 4
}
