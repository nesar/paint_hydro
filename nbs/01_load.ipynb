{
 "cells": [
  {
   "cell_type": "markdown",
   "id": "fdcbc3cd-725c-46ce-972e-ce4eff372ec7",
   "metadata": {},
   "source": [
    "# load\n",
    "\n",
    "> Loading HACC-hydro star formation history"
   ]
  },
  {
   "cell_type": "code",
   "execution_count": null,
   "id": "261bdc93-14f6-4f43-9e85-e357404db5ed",
   "metadata": {},
   "outputs": [],
   "source": [
    "#| default_exp load"
   ]
  },
  {
   "cell_type": "code",
   "execution_count": null,
   "id": "01d34108-74ef-4610-a9c0-4ede1cc1383b",
   "metadata": {},
   "outputs": [],
   "source": [
    "#| hide\n",
    "%load_ext autoreload\n",
    "%autoreload 2"
   ]
  },
  {
   "cell_type": "code",
   "execution_count": null,
   "id": "d6b4492e-ccc5-4701-8cf9-7ed34aa14a0d",
   "metadata": {},
   "outputs": [
    {
     "name": "stderr",
     "output_type": "stream",
     "text": [
      "/home/nramachandra/anaconda3/envs/env_jax/lib/python3.9/site-packages/nbdev/export.py:54: UserWarning: Notebook '/lcrc/project/cosmo_ai/nramachandra/Projects/Hydro_paint/paint_hydro/nbs/index.ipynb' uses `#|export` without `#|default_exp` cell.\n",
      "Note nbdev2 no longer supports nbdev1 syntax. Run `nbdev_migrate` to upgrade.\n",
      "See https://nbdev.fast.ai/getting_started.html for more information.\n",
      "  warn(f\"Notebook '{nbname}' uses `#|export` without `#|default_exp` cell.\\n\"\n"
     ]
    }
   ],
   "source": [
    "#| hide\n",
    "import nbdev; nbdev.nbdev_export()\n",
    "from nbdev.showdoc import *\n",
    "from fastcore.test import *"
   ]
  },
  {
   "cell_type": "code",
   "execution_count": null,
   "id": "02c55cab-9ebc-46ea-9dba-add9399f54df",
   "metadata": {},
   "outputs": [],
   "source": [
    "#| export\n",
    "import numpy as np\n",
    "import matplotlib.pylab as plt\n",
    "from colossus.cosmology import cosmology\n",
    "import haccytrees as haccT"
   ]
  },
  {
   "cell_type": "code",
   "execution_count": null,
   "id": "a13b1de3-0ff6-4743-adff-593d5d67dba9",
   "metadata": {},
   "outputs": [],
   "source": [
    "#| export\n",
    "from paint_hydro.paint import *"
   ]
  },
  {
   "cell_type": "code",
   "execution_count": null,
   "id": "8456fc5d-c95b-437a-a05f-1bd2afbf9f55",
   "metadata": {},
   "outputs": [],
   "source": [
    "#| export\n",
    "def cosmology_model(sim_name): # simulation name\n",
    "    ''' \n",
    "    Cosmic Age of all snapshots\n",
    "    '''\n",
    "    sim = haccT.Simulation.simulations[sim_name]\n",
    "\n",
    "    cosmo = cosmology.setCosmology(sim_name, dict(\n",
    "        flat=True,\n",
    "        H0=sim.cosmo.h*100,\n",
    "        Om0=sim.cosmo.Omega_m,\n",
    "        Ob0=sim.cosmo.Omega_b,\n",
    "        sigma8=sim.cosmo.s8,\n",
    "        ns=sim.cosmo.ns\n",
    "    ))\n",
    "    return cosmo"
   ]
  },
  {
   "cell_type": "code",
   "execution_count": null,
   "id": "8a32a16c-ce45-49e1-845d-8e02df9eaae5",
   "metadata": {},
   "outputs": [],
   "source": [
    "#| export\n",
    "def load_sfh(hacc_sfh_file): # input text file\n",
    "    '''\n",
    "    Load SFH text files\n",
    "    '''\n",
    "    cosmo = cosmology_model(\"AlphaQ\")\n",
    "    hacc_hydro_sm = np.loadtxt(hacc_sfh_file)\n",
    "    hydro_sm = hacc_hydro_sm[:, 0]\n",
    "    \n",
    "    for indx in range(1, hydro_sm.shape[0]):\n",
    "        if (hydro_sm[indx] > hydro_sm[indx-1]) :\n",
    "            hydro_sm[indx] = hydro_sm[indx-1]-100\n",
    "    \n",
    "    hydro_tt = cosmo.age(z = hacc_hydro_sm[:, 1])\n",
    "    return hydro_sm[::-1], hydro_tt[::-1]"
   ]
  },
  {
   "cell_type": "code",
   "execution_count": null,
   "id": "cfdcd8f2-4b56-46ec-b56e-46469bb6dba7",
   "metadata": {},
   "outputs": [
    {
     "data": {
      "image/png": "[encoded data removed]",
      "text/plain": [
       "<Figure size 432x288 with 1 Axes>"
      ]
     },
     "metadata": {
      "needs_background": "light"
     },
     "output_type": "display_data"
    }
   ],
   "source": [
    "#| hide\n",
    "dirIn = '/lcrc/project/cosmo_ai/nramachandra/Projects/Hydro_paint/Data/SFHs/'\n",
    "\n",
    "plt.figure(32)\n",
    "\n",
    "for galID in range(9, 14):\n",
    "    fileIn = dirIn + 'gal' + str(galID) +'.txt'\n",
    "    hydro_sm, hydro_tt = load_sfh(fileIn)\n",
    "    plt.plot(hydro_tt, hydro_sm, '-o')\n",
    "    \n",
    "plt.xlabel('Time')\n",
    "plt.ylabel('Mstar')\n",
    "plt.yscale('log')"
   ]
  },
  {
   "cell_type": "code",
   "execution_count": null,
   "id": "09366603-b88d-474a-be59-25afd0fe9aa1",
   "metadata": {},
   "outputs": [
    {
     "data": {
      "text/plain": [
       "Text(0, 0.5, 'SFR')"
      ]
     },
     "execution_count": null,
     "metadata": {},
     "output_type": "execute_result"
    },
    {
     "data": {
      "image/png": "[encoded data removed]",
      "text/plain": [
       "<Figure size 432x288 with 1 Axes>"
      ]
     },
     "metadata": {
      "needs_background": "light"
     },
     "output_type": "display_data"
    }
   ],
   "source": [
    "#| hide\n",
    "plt.figure(32)\n",
    "\n",
    "for galID in range(9, 14):\n",
    "    fileIn = dirIn + 'gal' + str(galID) +'.txt'\n",
    "    hydro_sm, hydro_tt = load_sfh(fileIn)\n",
    "    plt.plot(hydro_tt, np.gradient(hydro_sm)/np.gradient(hydro_tt))\n",
    "    \n",
    "plt.xlabel('Time')\n",
    "plt.ylabel('SFR')"
   ]
  },
  {
   "cell_type": "code",
   "execution_count": null,
   "id": "d9c6116c-fd69-444e-88a6-c68570d5f586",
   "metadata": {},
   "outputs": [
    {
     "data": {
      "text/plain": [
       "array([2.4845445e+11, 2.4845445e+11, 2.4845445e+11, 2.4845445e+11,\n",
       "       2.4845445e+11, 2.4845445e+11, 2.5437451e+11, 2.5715858e+11,\n",
       "       2.5715858e+11, 3.1276900e+11])"
      ]
     },
     "execution_count": null,
     "metadata": {},
     "output_type": "execute_result"
    }
   ],
   "source": [
    "#| hide\n",
    "hydro_sm"
   ]
  },
  {
   "cell_type": "code",
   "execution_count": null,
   "id": "e2913ac9-6fc3-4c96-84ec-db06212631d3",
   "metadata": {},
   "outputs": [
    {
     "data": {
      "text/plain": [
       "array([10.90894556, 11.2247792 , 11.53732605, 11.87015733, 12.10547211,\n",
       "       12.45460894, 12.82188403, 13.07128233, 13.47390767, 13.73854003])"
      ]
     },
     "execution_count": null,
     "metadata": {},
     "output_type": "execute_result"
    }
   ],
   "source": [
    "#| hide\n",
    "hydro_tt"
   ]
  },
  {
   "cell_type": "code",
   "execution_count": null,
   "id": "cdb7eb97-3eda-4f01-957e-d481ccbab1a1",
   "metadata": {},
   "outputs": [
    {
     "data": {
      "text/plain": [
       "array([3.16622381e+02, 3.18295959e+02, 3.10508728e+02, 3.73393066e+02,\n",
       "       3.69182190e+02, 7.85538542e+09, 1.31673673e+10, 6.89325627e+09,\n",
       "       1.26800430e+11, 2.10142173e+11])"
      ]
     },
     "execution_count": null,
     "metadata": {},
     "output_type": "execute_result"
    }
   ],
   "source": [
    "#| hide\n",
    "np.gradient(hydro_sm, hydro_tt)"
   ]
  },
  {
   "cell_type": "code",
   "execution_count": null,
   "id": "6281a7c5-e423-4df6-bec8-7808c5f68d42",
   "metadata": {},
   "outputs": [
    {
     "data": {
      "text/plain": [
       "array([1.0000000e+02, 1.0000000e+02, 1.0000000e+02, 1.0000000e+02,\n",
       "       1.0000000e+02, 5.9200600e+09, 2.7840699e+09, 1.0000000e+02,\n",
       "       5.5610420e+10])"
      ]
     },
     "execution_count": null,
     "metadata": {},
     "output_type": "execute_result"
    }
   ],
   "source": [
    "#| hide\n",
    "np.diff(hydro_sm)"
   ]
  },
  {
   "cell_type": "code",
   "execution_count": null,
   "id": "48a04d9c-d2cc-4c1e-8e36-f13483ce7805",
   "metadata": {},
   "outputs": [],
   "source": []
  },
  {
   "cell_type": "code",
   "execution_count": null,
   "id": "edac5792-ec40-4813-91cc-ff16745ab23f",
   "metadata": {},
   "outputs": [
    {
     "name": "stdout",
     "output_type": "stream",
     "text": [
      "[3.16622381e+02 3.18295959e+02 3.10508728e+02 3.73393066e+02\n",
      " 3.69182190e+02 7.85538542e+09 1.31673673e+10 6.89325627e+09\n",
      " 1.26800430e+11 2.10142173e+11]\n"
     ]
    },
    {
     "name": "stderr",
     "output_type": "stream",
     "text": [
      "/lcrc/project/cosmo_ai/nramachandra/Projects/Hydro_paint/paint_hydro/paint_hydro/paint.py:128: RuntimeWarning: divide by zero encountered in double_scalars\n",
      "  norm = formed_mass/mass0\n",
      "/lcrc/project/cosmo_ai/nramachandra/Projects/Hydro_paint/paint_hydro/paint_hydro/paint.py:130: RuntimeWarning: invalid value encountered in double_scalars\n",
      "  dust_mass = dust_mass0*norm\n",
      "/lcrc/project/cosmo_ai/nramachandra/Projects/Hydro_paint/paint_hydro/paint_hydro/paint.py:332: RuntimeWarning: invalid value encountered in subtract\n",
      "  spec_flux_nebe = spec_SED_temp1['flux'] - spec_SED_temp2['flux']\n",
      "/lcrc/project/cosmo_ai/nramachandra/Projects/Hydro_paint/paint_hydro/paint_hydro/paint.py:341: RuntimeWarning: invalid value encountered in subtract\n",
      "  spec_flux_duste = spec_SED_tot['flux'] - spec_SED_temp['flux']\n",
      "/lcrc/project/cosmo_ai/nramachandra/Projects/Hydro_paint/paint_hydro/paint_hydro/paint.py:349: RuntimeWarning: invalid value encountered in subtract\n",
      "  spec_flux_agn = spec_SED_tot['flux'] - spec_SED_temp['flux']\n"
     ]
    },
    {
     "data": {
      "text/plain": [
       "<matplotlib.legend.Legend>"
      ]
     },
     "execution_count": null,
     "metadata": {},
     "output_type": "execute_result"
    },
    {
     "data": {
      "image/png": "[encoded data removed]",
      "text/plain": [
       "<Figure size 576x288 with 1 Axes>"
      ]
     },
     "metadata": {
      "needs_background": "light"
     },
     "output_type": "display_data"
    }
   ],
   "source": [
    "#| hide\n",
    "\n",
    "\n",
    "f, a = plt.subplots(1, 1, figsize = (8, 4))\n",
    "\n",
    "\n",
    "hydro_sfr = np.gradient(hydro_sm, hydro_tt)\n",
    "print(hydro_sfr)\n",
    "\n",
    "if True:\n",
    "\n",
    "    obs_spec = generate_modelSED_spec_decompose(sp=None,imf=1, duste_switch=1,add_neb_emission=1,dust_law=1,add_agn=1, \n",
    "                                                add_igm_absorption=0,igm_type=0,sfh_form=3, \n",
    "                                                sfh_t=hydro_tt, sfh_sfr=hydro_sfr, \n",
    "                                                funit='Jy',cosmo='flat_LCDM',H0=70.0,Om0=0.3,\n",
    "                                                gas_logu=-2.0,params_val={'log_mass':9.0,'z':0.3,'log_fagn':-3.0,'log_tauagn':1.0,\n",
    "                                                                          'log_qpah':0.54,'log_umin':0.0,\n",
    "                                                                          'log_gamma':-2.0,'dust1':0.1,'dust2':0.5,'dust_index':-0.7,\n",
    "                                                                          'log_age':1.0,'log_alpha':0.1,'log_beta':0.1,'log_t0':0.4,\n",
    "                                                                          'log_tau':0.4,'logzsol':0.0})\n",
    "\n",
    "    a.plot(obs_spec['wave']/1e4, 1e6*obs_spec['flux_total'], color = 'k', alpha=1.0, ls = 'dashed', label='Total');\n",
    "    a.plot(obs_spec['wave']/1e4, 1e6*obs_spec['flux_stellar'], color = 'r', alpha=0.7, label='Stellar emission');\n",
    "    a.plot(obs_spec['wave']/1e4, 1e6*obs_spec['flux_nebe'], color = 'g', alpha=1.0, label='Nebular emission');\n",
    "    a.plot(obs_spec['wave']/1e4, 1e6*obs_spec['flux_duste'], color = 'b', alpha=1.0, label='Dust emission');\n",
    "    a.plot(obs_spec['wave']/1e4, 1e6*obs_spec['flux_agn'], color = 'orange', alpha=1.0, label='AGN torus emission');\n",
    "\n",
    "\n",
    "a.set_ylabel('Flux per unit wavelength (uJy)', fontsize=14)\n",
    "a.set_xlabel(' Restframe Wavelength (um) ', fontsize=14)\n",
    "\n",
    "# a.set_xscale('log')\n",
    "# a.set_yscale('log')\n",
    "\n",
    "\n",
    "plt.legend(title='FSPS fluxes', bbox_to_anchor=(1.05, 1.0), loc='upper left', fontsize=14)\n",
    "\n",
    "# plt.xlim(8e2, 2e4)\n",
    "# a.set_xlim(1000, 30000)\n",
    "# a.set_xlim(0.1, 10)\n",
    "# a.set_ylim(1e-6, 1e1)\n",
    "# autoscale_y(a, margin=0.1)"
   ]
  }
 ],
 "metadata": {
  "kernelspec": {
   "display_name": "python3",
   "language": "python",
   "name": "python3"
  }
 },
 "nbformat": 4,
 "nbformat_minor": 5
}
