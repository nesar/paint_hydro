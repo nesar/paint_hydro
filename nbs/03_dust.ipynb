{
 "cells": [
  {
   "cell_type": "raw",
   "id": "c3bd0c7e",
   "metadata": {},
   "source": [
    "---\n",
    "{}\n",
    "\n",
    "---\n",
    "\n"
   ]
  },
  {
   "cell_type": "code",
   "execution_count": null,
   "id": "ea76fc36-310f-4c7f-8b4c-2dd772f6f71b",
   "metadata": {},
   "outputs": [],
   "source": []
  }
 ],
 "metadata": {
  "kernelspec": {
   "display_name": "python3",
   "language": "python",
   "name": "python3"
  }
 },
 "nbformat": 4,
 "nbformat_minor": 5
}
